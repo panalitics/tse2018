{
 "cells": [
  {
   "cell_type": "markdown",
   "metadata": {},
   "source": [
    "# 015-tse2018_cnpj_campanha"
   ]
  },
  {
   "cell_type": "code",
   "execution_count": 1,
   "metadata": {},
   "outputs": [],
   "source": [
    "ano_eleicao = '2018'\n",
    "dbschema = 'tse2018'"
   ]
  },
  {
   "cell_type": "code",
   "execution_count": 2,
   "metadata": {},
   "outputs": [],
   "source": [
    "prestacao_contas_url = 'http://agencia.tse.jus.br/estatistica/sead/odsele/prestacao_contas/CNPJ_campanha_2018.zip' # local do arquivo .zip com cmpj de campanha"
   ]
  },
  {
   "cell_type": "code",
   "execution_count": 3,
   "metadata": {},
   "outputs": [],
   "source": [
    "import sys\n",
    "sys.path.append('../')\n",
    "import mod_tse as mtse"
   ]
  },
  {
   "cell_type": "code",
   "execution_count": 4,
   "metadata": {},
   "outputs": [],
   "source": [
    "import os\n",
    "home = os.environ[\"HOME\"]\n",
    "tse_home =  f'{home}/temp/{dbschema}'\n",
    "zip_file = os.path.basename(prestacao_contas_url)\n",
    "local_dir = f\"{tse_home}/{zip_file.split('.')[0]}\"\n",
    "if not(os.path.exists(local_dir)):\n",
    "    os.makedirs(local_dir) \n",
    "os.chdir(local_dir)"
   ]
  },
  {
   "cell_type": "code",
   "execution_count": 5,
   "metadata": {},
   "outputs": [],
   "source": [
    "mtse.import_zip_file(prestacao_contas_url,tse_home)"
   ]
  },
  {
   "cell_type": "code",
   "execution_count": 6,
   "metadata": {},
   "outputs": [],
   "source": [
    "mtse.execute_query(f'CREATE SCHEMA IF NOT EXISTS {dbschema};')"
   ]
  },
  {
   "cell_type": "markdown",
   "metadata": {},
   "source": [
    "## carrega CNPJ_candidatos.txt"
   ]
  },
  {
   "cell_type": "code",
   "execution_count": 7,
   "metadata": {
    "nbpresent": {
     "id": "23b882f0-3d07-4817-a2cf-9ef2a3e2f299"
    }
   },
   "outputs": [
    {
     "name": "stdout",
     "output_type": "stream",
     "text": [
      "/home/neilor/DADOS_TSE/tse2018/CNPJ_campanha_2018/cnpj_candidatos_2018.txt\n"
     ]
    }
   ],
   "source": [
    "arq_txt_candidatos = f'{local_dir}/cnpj_candidatos_{ano_eleicao}.txt'\n",
    "\n",
    "arq_csv_candidatos = arq_txt_candidatos.replace('.txt','.csv') \n",
    "\n",
    "campos = {\n",
    "    'registro':(1,1),\n",
    "    'tipo_de_prestador_de_contas':(2,3),\n",
    "    'cnpj':(4,17),\n",
    "    'nome_do_prestador_de_contas':(18,167),\n",
    "    'natureza_juridica':(168,171),\n",
    "    'cnae_principal':(172,178),\n",
    "    'data_insercao_cnpj':(189,200)\n",
    "}\n",
    "\n",
    "f_out = open(arq_csv_candidatos,'w')\n",
    "f_out.write(';'.join(list(campos.keys())[1:])+'\\n')\n",
    "\n",
    "with open(arq_txt_candidatos) as f:\n",
    "    for l in f:\n",
    "        if len(l)>0  and l[0] == '2':\n",
    "            registro=[]\n",
    "            for i in list(campos.values())[1:]:\n",
    "                registro.append(l[i[0]-1:i[1]])\n",
    "            f_out.write(';'.join(registro)+'\\n')\n",
    "f_out.close()\n"
   ]
  },
  {
   "cell_type": "code",
   "execution_count": 8,
   "metadata": {},
   "outputs": [
    {
     "name": "stdout",
     "output_type": "stream",
     "text": [
      "Resumo da tabela:\n",
      "tse2018.cnpj_candidatos_2018\n",
      "================================\n",
      " registros\n",
      "     29016\n",
      "================================\n",
      "Carregada em: 2020-01-03\n"
     ]
    }
   ],
   "source": [
    "table_cnpj_candidatos=f\"{dbschema}.cnpj_candidatos_{ano_eleicao}\"\n",
    "\n",
    "query_create_table_cnpj_candidatos = f\"\"\"\n",
    "    drop table if exists {table_cnpj_candidatos};\n",
    "    create table {table_cnpj_candidatos}\n",
    "    (\n",
    "    tipo_de_prestador_de_contas varchar,\n",
    "    cnpj varchar,\n",
    "    nome_do_prestador_de_contas varchar,\n",
    "    natureza_juridica varchar,\n",
    "    cnae_principal varchar,\n",
    "    data_insercao_cnpj varchar\n",
    "    );\n",
    "\"\"\"\n",
    "\n",
    "mtse.execute_query(query_create_table_cnpj_candidatos)\n",
    "\n",
    "mtse.load_table(table_cnpj_candidatos,arq_csv_candidatos,True)"
   ]
  },
  {
   "cell_type": "code",
   "execution_count": null,
   "metadata": {},
   "outputs": [],
   "source": []
  },
  {
   "cell_type": "markdown",
   "metadata": {},
   "source": [
    "### carrega cnj_partido"
   ]
  },
  {
   "cell_type": "code",
   "execution_count": 9,
   "metadata": {},
   "outputs": [
    {
     "name": "stdout",
     "output_type": "stream",
     "text": [
      "/home/neilor/DADOS_TSE/tse2018/CNPJ_campanha_2018/cnpj_partido_2018.txt\n"
     ]
    }
   ],
   "source": [
    "arq_txt_partido = f'{local_dir}/cnpj_partido_{ano_eleicao}.txt'\n",
    "print(arq_txt_partido)\n",
    "arq_csv_partido = arq_txt_partido.replace('.txt','.csv') \n",
    "\n",
    "campos = {\n",
    "    'registro':(1,1),\n",
    "    'tipo_de_prestador_de_contas':(2,3),\n",
    "    'cnpj':(4,17),\n",
    "    'nome_do_prestador_de_contas':(18,167),\n",
    "    'natureza_juridica':(168,171),\n",
    "    'cnae_principal':(172,178),\n",
    "    'data_insercao_cnpj':(189,200)\n",
    "}\n",
    "\n",
    "f_out = open(arq_csv_partido,'w')\n",
    "f_out.write(';'.join(list(campos.keys())[1:])+'\\n')\n",
    "\n",
    "with open(arq_txt_partido) as f:\n",
    "    for l in f:\n",
    "        if len(l)>0  and l[0] == '2':\n",
    "            registro=[]\n",
    "            for i in list(campos.values())[1:]:\n",
    "                registro.append(l[i[0]-1:i[1]])\n",
    "            f_out.write(';'.join(registro)+'\\n')\n",
    "f_out.close()"
   ]
  },
  {
   "cell_type": "code",
   "execution_count": 10,
   "metadata": {},
   "outputs": [
    {
     "name": "stdout",
     "output_type": "stream",
     "text": [
      "Resumo da tabela:\n",
      "tse2018.cnpj_partido_2018\n",
      "================================\n",
      " registros\n",
      "     98717\n",
      "================================\n",
      "Carregada em: 2020-01-03\n"
     ]
    }
   ],
   "source": [
    "table_cnpj_partido=f\"{dbschema}.cnpj_partido_{ano_eleicao}\"\n",
    "\n",
    "query_create_table_cnpj_partido = f\"\"\"\n",
    "    drop table if exists {table_cnpj_partido};\n",
    "    create table {table_cnpj_partido}\n",
    "    (\n",
    "    tipo_de_prestador_de_contas varchar,\n",
    "    cnpj varchar,\n",
    "    nome_do_prestador_de_contas varchar,\n",
    "    natureza_juridica varchar,\n",
    "    cnae_principal varchar,\n",
    "    data_insercao_cnpj varchar\n",
    "    );\n",
    "\"\"\"\n",
    "\n",
    "mtse.execute_query(query_create_table_cnpj_partido)\n",
    "\n",
    "mtse.load_table(table_cnpj_partido,arq_csv_partido,True)\n",
    "\n",
    "mtse.show_table_resumo(table_cnpj_partido)"
   ]
  },
  {
   "cell_type": "code",
   "execution_count": null,
   "metadata": {},
   "outputs": [],
   "source": []
  }
 ],
 "metadata": {
  "anaconda-cloud": {},
  "kernelspec": {
   "display_name": "Python 3",
   "language": "python",
   "name": "python3"
  },
  "language_info": {
   "codemirror_mode": {
    "name": "ipython",
    "version": 3
   },
   "file_extension": ".py",
   "mimetype": "text/x-python",
   "name": "python",
   "nbconvert_exporter": "python",
   "pygments_lexer": "ipython3",
   "version": "3.7.3"
  },
  "nbpresent": {
   "slides": {
    "10f21bac-b2a7-47df-8bf6-08a10883d984": {
     "id": "10f21bac-b2a7-47df-8bf6-08a10883d984",
     "prev": "e58f043b-35bc-42e9-a366-ce3c221fc743",
     "regions": {
      "1203e097-4a21-4554-b464-ab3311906d8a": {
       "attrs": {
        "height": 0.8,
        "width": 0.8,
        "x": 0.1,
        "y": 0.1
       },
       "content": {
        "cell": "64d93a2f-bdd9-4dcb-a465-e3d72fd6e1db",
        "part": "whole"
       },
       "id": "1203e097-4a21-4554-b464-ab3311906d8a"
      }
     }
    },
    "245c768d-9e85-4011-afad-c9574956e626": {
     "id": "245c768d-9e85-4011-afad-c9574956e626",
     "prev": "6d4a3e10-118d-4284-b428-09b447ae50fa",
     "regions": {
      "e6daa3cd-1802-4f6e-92e5-9e85aff71184": {
       "attrs": {
        "height": 0.8,
        "width": 0.8,
        "x": 0.1,
        "y": 0.1
       },
       "content": {
        "cell": "254e73f0-6c0b-40b9-a8dc-4060fc4f2408",
        "part": "whole"
       },
       "id": "e6daa3cd-1802-4f6e-92e5-9e85aff71184"
      }
     }
    },
    "30e8718e-315a-4a5a-a4b2-69d2eb71d19e": {
     "id": "30e8718e-315a-4a5a-a4b2-69d2eb71d19e",
     "prev": "cdffd6dc-ad21-4e7d-8eb6-4fe0ee97926f",
     "regions": {
      "0f61ccaf-7c60-4f03-8e7a-a1976bb55b9c": {
       "attrs": {
        "height": 0.8,
        "width": 0.8,
        "x": 0.1,
        "y": 0.1
       },
       "content": {
        "cell": "58ba6402-9252-45b8-a6df-1cd3559b7fda",
        "part": "whole"
       },
       "id": "0f61ccaf-7c60-4f03-8e7a-a1976bb55b9c"
      }
     }
    },
    "56702595-0a6e-433e-b66b-c45d5b90ade2": {
     "id": "56702595-0a6e-433e-b66b-c45d5b90ade2",
     "prev": "245c768d-9e85-4011-afad-c9574956e626",
     "regions": {
      "29fbe465-8c56-4315-bef4-2ecd71722711": {
       "attrs": {
        "height": 0.8,
        "width": 0.8,
        "x": 0.1,
        "y": 0.1
       },
       "content": {
        "cell": "23b882f0-3d07-4817-a2cf-9ef2a3e2f299",
        "part": "whole"
       },
       "id": "29fbe465-8c56-4315-bef4-2ecd71722711"
      }
     }
    },
    "579b903a-d5f1-44ce-aeb2-579dc070cc14": {
     "id": "579b903a-d5f1-44ce-aeb2-579dc070cc14",
     "prev": "30e8718e-315a-4a5a-a4b2-69d2eb71d19e",
     "regions": {
      "a98ea1e0-bd4f-4862-899b-22e31976c478": {
       "attrs": {
        "height": 0.8,
        "width": 0.8,
        "x": 0.1,
        "y": 0.1
       },
       "content": {
        "cell": "6fbc7d26-21c8-42d5-a2eb-3000d7104f92",
        "part": "whole"
       },
       "id": "a98ea1e0-bd4f-4862-899b-22e31976c478"
      }
     }
    },
    "6d4a3e10-118d-4284-b428-09b447ae50fa": {
     "id": "6d4a3e10-118d-4284-b428-09b447ae50fa",
     "prev": "579b903a-d5f1-44ce-aeb2-579dc070cc14",
     "regions": {
      "e8401c10-008f-4c07-beb9-5d050b4a370b": {
       "attrs": {
        "height": 0.8,
        "width": 0.8,
        "x": 0.1,
        "y": 0.1
       },
       "content": {
        "cell": "a1686cca-bd10-497f-9fd6-a78b3795dc31",
        "part": "whole"
       },
       "id": "e8401c10-008f-4c07-beb9-5d050b4a370b"
      }
     }
    },
    "cdffd6dc-ad21-4e7d-8eb6-4fe0ee97926f": {
     "id": "cdffd6dc-ad21-4e7d-8eb6-4fe0ee97926f",
     "prev": "d278ebf0-84e7-4e1f-82f0-4a746ecd8417",
     "regions": {
      "77bf3b8e-0155-4514-9124-aaf6be851495": {
       "attrs": {
        "height": 1,
        "width": 1,
        "x": 0,
        "y": 0
       },
       "id": "77bf3b8e-0155-4514-9124-aaf6be851495"
      }
     },
     "theme": "64df127d-826f-4915-84e8-b8d48c0d8571"
    },
    "d278ebf0-84e7-4e1f-82f0-4a746ecd8417": {
     "id": "d278ebf0-84e7-4e1f-82f0-4a746ecd8417",
     "prev": null,
     "regions": {
      "9e0dbd3c-02f8-46e5-bef0-037fb1245908": {
       "attrs": {
        "height": 0.8,
        "width": 0.8,
        "x": 0.1,
        "y": 0.1
       },
       "content": {
        "cell": "4c3e6f84-c8d4-4832-b06a-c8add6d6891e",
        "part": "whole"
       },
       "id": "9e0dbd3c-02f8-46e5-bef0-037fb1245908"
      }
     }
    },
    "e58f043b-35bc-42e9-a366-ce3c221fc743": {
     "id": "e58f043b-35bc-42e9-a366-ce3c221fc743",
     "prev": "56702595-0a6e-433e-b66b-c45d5b90ade2",
     "regions": {
      "4c306b58-0b7d-4c1e-99dd-25393157f209": {
       "attrs": {
        "height": 0.8,
        "width": 0.8,
        "x": 0.1,
        "y": 0.1
       },
       "content": {
        "cell": "88007b5a-952a-44b0-94f4-cfd64b8c43f4",
        "part": "whole"
       },
       "id": "4c306b58-0b7d-4c1e-99dd-25393157f209"
      }
     }
    }
   },
   "themes": {
    "default": "64df127d-826f-4915-84e8-b8d48c0d8571",
    "theme": {
     "64df127d-826f-4915-84e8-b8d48c0d8571": {
      "id": "64df127d-826f-4915-84e8-b8d48c0d8571",
      "palette": {
       "19cc588f-0593-49c9-9f4b-e4d7cc113b1c": {
        "id": "19cc588f-0593-49c9-9f4b-e4d7cc113b1c",
        "rgb": [
         252,
         252,
         252
        ]
       },
       "31af15d2-7e15-44c5-ab5e-e04b16a89eff": {
        "id": "31af15d2-7e15-44c5-ab5e-e04b16a89eff",
        "rgb": [
         68,
         68,
         68
        ]
       },
       "50f92c45-a630-455b-aec3-788680ec7410": {
        "id": "50f92c45-a630-455b-aec3-788680ec7410",
        "rgb": [
         155,
         177,
         192
        ]
       },
       "c5cc3653-2ee1-402a-aba2-7caae1da4f6c": {
        "id": "c5cc3653-2ee1-402a-aba2-7caae1da4f6c",
        "rgb": [
         43,
         126,
         184
        ]
       },
       "efa7f048-9acb-414c-8b04-a26811511a21": {
        "id": "efa7f048-9acb-414c-8b04-a26811511a21",
        "rgb": [
         25.118061674008803,
         73.60176211453744,
         107.4819383259912
        ]
       }
      },
      "rules": {
       "blockquote": {
        "color": "50f92c45-a630-455b-aec3-788680ec7410"
       },
       "code": {
        "font-family": "Anonymous Pro"
       },
       "h1": {
        "color": "c5cc3653-2ee1-402a-aba2-7caae1da4f6c",
        "font-family": "Lato",
        "font-size": 8
       },
       "h2": {
        "color": "c5cc3653-2ee1-402a-aba2-7caae1da4f6c",
        "font-family": "Lato",
        "font-size": 6
       },
       "h3": {
        "color": "50f92c45-a630-455b-aec3-788680ec7410",
        "font-family": "Lato",
        "font-size": 5.5
       },
       "h4": {
        "color": "c5cc3653-2ee1-402a-aba2-7caae1da4f6c",
        "font-family": "Lato",
        "font-size": 5
       },
       "h5": {
        "font-family": "Lato"
       },
       "h6": {
        "font-family": "Lato"
       },
       "h7": {
        "font-family": "Lato"
       },
       "pre": {
        "font-family": "Anonymous Pro",
        "font-size": 4
       }
      },
      "text-base": {
       "font-family": "Merriweather",
       "font-size": 4
      }
     }
    }
   }
  }
 },
 "nbformat": 4,
 "nbformat_minor": 4
}
