{
 "cells": [
  {
   "cell_type": "markdown",
   "metadata": {},
   "source": [
    "# 035-tse2018_municipios"
   ]
  },
  {
   "cell_type": "code",
   "execution_count": 1,
   "metadata": {},
   "outputs": [],
   "source": [
    "ano_eleicao = '2018'\n",
    "dbschema = 'tse2018'"
   ]
  },
  {
   "cell_type": "code",
   "execution_count": 2,
   "metadata": {},
   "outputs": [],
   "source": [
    "import os\n",
    "import sys\n",
    "sys.path.append('../')\n",
    "import mod_tse as mtse\n",
    "home = os.environ[\"HOME\"]"
   ]
  },
  {
   "cell_type": "code",
   "execution_count": 3,
   "metadata": {},
   "outputs": [],
   "source": [
    "table_munzona = f\"{dbschema}.votacao_candidato_munzona_{ano_eleicao}\"\n",
    "\n",
    "table_municipios = f\"{dbschema}.municipios_{ano_eleicao}\""
   ]
  },
  {
   "cell_type": "code",
   "execution_count": 4,
   "metadata": {},
   "outputs": [],
   "source": [
    "create_table_municipios = f\"\"\"\n",
    "DROP TABLE IF EXISTS {table_municipios} CASCADE;\n",
    "CREATE TABLE {table_municipios} (\n",
    "    sg_uf varchar,\n",
    "    sg_ue varchar,\n",
    "    cd_municipio varchar,\n",
    "    nm_municipio varchar\n",
    ");\n",
    "\n",
    "insert into {table_municipios}\n",
    "select\n",
    "    sg_uf,\n",
    "    sg_ue,\n",
    "    cd_municipio,\n",
    "    nm_municipio\n",
    "from {table_munzona}\n",
    "group by\n",
    "    sg_uf,\n",
    "    sg_ue,\n",
    "    cd_municipio,\n",
    "    nm_municipio\n",
    ";\n",
    "\n",
    "\"\"\"\n",
    "\n",
    "mtse.execute_query(create_table_municipios)\n"
   ]
  },
  {
   "cell_type": "code",
   "execution_count": null,
   "metadata": {},
   "outputs": [],
   "source": []
  }
 ],
 "metadata": {
  "kernelspec": {
   "display_name": "Python 3",
   "language": "python",
   "name": "python3"
  },
  "language_info": {
   "codemirror_mode": {
    "name": "ipython",
    "version": 3
   },
   "file_extension": ".py",
   "mimetype": "text/x-python",
   "name": "python",
   "nbconvert_exporter": "python",
   "pygments_lexer": "ipython3",
   "version": "3.7.3"
  }
 },
 "nbformat": 4,
 "nbformat_minor": 2
}
